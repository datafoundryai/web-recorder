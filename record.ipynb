{
 "cells": [
  {
   "cell_type": "code",
   "execution_count": 2,
   "metadata": {},
   "outputs": [],
   "source": [
    "from scrapybara import Scrapybara\n",
    "\n",
    "from web_recorder.recorder import Recorder"
   ]
  },
  {
   "cell_type": "code",
   "execution_count": null,
   "metadata": {},
   "outputs": [
    {
     "name": "stdout",
     "output_type": "stream",
     "text": [
      "`🔍 Live View Link: https://api.proxy.scrapybara.com/v1/instance/s-fcd6992e/stream\n"
     ]
    }
   ],
   "source": [
    "SCRAPYBARA_API_KEY = \"<api_key>\"\n",
    "client = Scrapybara(api_key=SCRAPYBARA_API_KEY)\n",
    "\n",
    "instance = client.start_browser()\n",
    "\n",
    "live_web_url = instance.get_stream_url().stream_url\n",
    "cdp_url = instance.get_cdp_url().cdp_url\n",
    "print(f\"`🔍 Live View Link: {live_web_url}\")"
   ]
  },
  {
   "cell_type": "code",
   "execution_count": 4,
   "metadata": {},
   "outputs": [
    {
     "name": "stdout",
     "output_type": "stream",
     "text": [
      "Task ID: 3ffcd67d-0244-4cbd-a7b1-de6f7a889195\n",
      "recording browser logs unsupported url: about:blank found, won't record\n",
      "recording browser logs Starting rrweb recording\n",
      "recording browser logs window is iframe, won't record\n",
      "recording browser logs window is iframe, won't record\n",
      "recording browser logs window is iframe, won't record\n",
      "recording browser logs send events called\n",
      "recording browser logs Failed to load resource: the server responded with a status of 404 ()\n",
      "recording browser logs send events called\n",
      "recording browser logs send events called\n",
      "recording browser logs Starting rrweb recording\n",
      "recording browser logs window is iframe, won't record\n",
      "recording browser logs send events called\n",
      "recording browser logs Blocked attempt to show a 'beforeunload' confirmation panel for a frame that never had a user gesture since its load. https://www.chromestatus.com/feature/5082396709879808\n",
      "recording browser logs send events called\n",
      "recording browser logs Starting rrweb recording\n",
      "recording browser logs window is iframe, won't record\n",
      "recording browser logs window is iframe, won't record\n",
      "recording browser logs window is iframe, won't record\n",
      "recording browser logs send events called\n",
      "recording browser logs send events called\n",
      "recording browser logs Starting rrweb recording\n",
      "recording browser logs window is iframe, won't record\n",
      "recording browser logs window is iframe, won't record\n",
      "recording browser logs send events called\n",
      "recording browser logs send events called\n",
      "recording browser logs Starting rrweb recording\n",
      "recording browser logs This page is using the deprecated ResourceLoader module \"mediawiki.Uri\".\n",
      "[1.43] Please use browser native URL.\n",
      "recording browser logs window is iframe, won't record\n",
      "recording browser logs window is iframe, won't record\n",
      "recording browser logs send events called\n",
      "recording browser logs send events called\n",
      "recording browser logs send events called\n",
      "recording browser logs send events called\n",
      "recording browser logs send events called\n"
     ]
    }
   ],
   "source": [
    "recorder = Recorder(\n",
    "  cdp_url=cdp_url,\n",
    ")\n",
    "\n",
    "recording = await recorder.record()"
   ]
  },
  {
   "cell_type": "code",
   "execution_count": null,
   "metadata": {},
   "outputs": [],
   "source": [
    "recording.export(\n",
    "  path=\"../browser_recordings/save.json\",\n",
    ")"
   ]
  },
  {
   "cell_type": "code",
   "execution_count": null,
   "metadata": {},
   "outputs": [],
   "source": [
    "recording = recorder.import(\"../browser_recordings/save.json\")"
   ]
  },
  {
   "cell_type": "code",
   "execution_count": 16,
   "metadata": {},
   "outputs": [
    {
     "ename": "Error",
     "evalue": "It looks like you are using Playwright Sync API inside the asyncio loop.\nPlease use the Async API instead.",
     "output_type": "error",
     "traceback": [
      "\u001b[0;31m---------------------------------------------------------------------------\u001b[0m",
      "\u001b[0;31mError\u001b[0m                                     Traceback (most recent call last)",
      "Cell \u001b[0;32mIn[16], line 25\u001b[0m\n\u001b[1;32m      5\u001b[0m no_automation_args \u001b[38;5;241m=\u001b[39m [\n\u001b[1;32m      6\u001b[0m     \u001b[38;5;124m\"\u001b[39m\u001b[38;5;124m--no-sandbox\u001b[39m\u001b[38;5;124m\"\u001b[39m,\n\u001b[1;32m      7\u001b[0m     \u001b[38;5;124m\"\u001b[39m\u001b[38;5;124m--disable-blink-features=AutomationControlled\u001b[39m\u001b[38;5;124m\"\u001b[39m,\n\u001b[0;32m   (...)\u001b[0m\n\u001b[1;32m     20\u001b[0m     \u001b[38;5;124m\"\u001b[39m\u001b[38;5;124m--disable-features=IsolateOrigins,site-per-process\u001b[39m\u001b[38;5;124m\"\u001b[39m,\n\u001b[1;32m     21\u001b[0m ]\n\u001b[1;32m     24\u001b[0m \u001b[38;5;66;03m# with async_playwright() as p:\u001b[39;00m\n\u001b[0;32m---> 25\u001b[0m p \u001b[38;5;241m=\u001b[39m sync_playwright()\u001b[38;5;241m.\u001b[39mstart()\n\u001b[1;32m     26\u001b[0m browser \u001b[38;5;241m=\u001b[39m p\u001b[38;5;241m.\u001b[39mchromium\u001b[38;5;241m.\u001b[39mlaunch(headless\u001b[38;5;241m=\u001b[39m\u001b[38;5;28;01mFalse\u001b[39;00m, args\u001b[38;5;241m=\u001b[39mno_automation_args)\n\u001b[1;32m     27\u001b[0m recording\u001b[38;5;241m.\u001b[39mreplay(browser)\n",
      "File \u001b[0;32m~/miniconda3/envs/foundryml/lib/python3.12/site-packages/playwright/sync_api/_context_manager.py:84\u001b[0m, in \u001b[0;36mPlaywrightContextManager.start\u001b[0;34m(self)\u001b[0m\n\u001b[1;32m     83\u001b[0m \u001b[38;5;28;01mdef\u001b[39;00m\u001b[38;5;250m \u001b[39m\u001b[38;5;21mstart\u001b[39m(\u001b[38;5;28mself\u001b[39m) \u001b[38;5;241m-\u001b[39m\u001b[38;5;241m>\u001b[39m SyncPlaywright:\n\u001b[0;32m---> 84\u001b[0m     \u001b[38;5;28;01mreturn\u001b[39;00m \u001b[38;5;28mself\u001b[39m\u001b[38;5;241m.\u001b[39m\u001b[38;5;21m__enter__\u001b[39m()\n",
      "File \u001b[0;32m~/miniconda3/envs/foundryml/lib/python3.12/site-packages/playwright/sync_api/_context_manager.py:47\u001b[0m, in \u001b[0;36mPlaywrightContextManager.__enter__\u001b[0;34m(self)\u001b[0m\n\u001b[1;32m     45\u001b[0m             \u001b[38;5;28mself\u001b[39m\u001b[38;5;241m.\u001b[39m_own_loop \u001b[38;5;241m=\u001b[39m \u001b[38;5;28;01mTrue\u001b[39;00m\n\u001b[1;32m     46\u001b[0m         \u001b[38;5;28;01mif\u001b[39;00m \u001b[38;5;28mself\u001b[39m\u001b[38;5;241m.\u001b[39m_loop\u001b[38;5;241m.\u001b[39mis_running():\n\u001b[0;32m---> 47\u001b[0m             \u001b[38;5;28;01mraise\u001b[39;00m Error(\n\u001b[1;32m     48\u001b[0m \u001b[38;5;250m                \u001b[39m\u001b[38;5;124;03m\"\"\"It looks like you are using Playwright Sync API inside the asyncio loop.\u001b[39;00m\n\u001b[1;32m     49\u001b[0m \u001b[38;5;124;03mPlease use the Async API instead.\"\"\"\u001b[39;00m\n\u001b[1;32m     50\u001b[0m             )\n\u001b[1;32m     52\u001b[0m         \u001b[38;5;66;03m# Create a new fiber for the protocol dispatcher. It will be pumping events\u001b[39;00m\n\u001b[1;32m     53\u001b[0m         \u001b[38;5;66;03m# until the end of times. We will pass control to that fiber every time we\u001b[39;00m\n\u001b[1;32m     54\u001b[0m         \u001b[38;5;66;03m# block while waiting for a response.\u001b[39;00m\n\u001b[1;32m     55\u001b[0m         \u001b[38;5;28;01mdef\u001b[39;00m\u001b[38;5;250m \u001b[39m\u001b[38;5;21mgreenlet_main\u001b[39m() \u001b[38;5;241m-\u001b[39m\u001b[38;5;241m>\u001b[39m \u001b[38;5;28;01mNone\u001b[39;00m:\n",
      "\u001b[0;31mError\u001b[0m: It looks like you are using Playwright Sync API inside the asyncio loop.\nPlease use the Async API instead."
     ]
    }
   ],
   "source": [
    "# from playwright.async_api import async_playwright\n",
    "\n",
    "#TODO fix this (still doesn't work)\n",
    "from playwright.sync_api import Playwright, sync_playwright, expect\n",
    "\n",
    "\n",
    "no_automation_args = [\n",
    "    \"--no-sandbox\",\n",
    "    \"--disable-blink-features=AutomationControlled\",\n",
    "    \"--disable-infobars\",\n",
    "    \"--disable-background-timer-throttling\",\n",
    "    \"--disable-popup-blocking\",\n",
    "    \"--disable-backgrounding-occluded-windows\",\n",
    "    \"--disable-renderer-backgrounding\",\n",
    "    \"--disable-window-activation\",\n",
    "    \"--disable-focus-on-load\",\n",
    "    \"--no-first-run\",\n",
    "    \"--no-default-browser-check\",\n",
    "    \"--no-startup-window\",\n",
    "    \"--window-position=0,0\",\n",
    "    \"--disable-site-isolation-trials\",\n",
    "    \"--disable-features=IsolateOrigins,site-per-process\",\n",
    "]\n",
    "\n",
    "\n",
    "# with async_playwright() as p:\n",
    "p = sync_playwright().start()\n",
    "browser = p.chromium.launch(headless=False, args=no_automation_args)\n",
    "recording.replay(browser)"
   ]
  }
 ],
 "metadata": {
  "kernelspec": {
   "display_name": "foundryml",
   "language": "python",
   "name": "python3"
  },
  "language_info": {
   "codemirror_mode": {
    "name": "ipython",
    "version": 3
   },
   "file_extension": ".py",
   "mimetype": "text/x-python",
   "name": "python",
   "nbconvert_exporter": "python",
   "pygments_lexer": "ipython3",
   "version": "3.12.7"
  }
 },
 "nbformat": 4,
 "nbformat_minor": 2
}
