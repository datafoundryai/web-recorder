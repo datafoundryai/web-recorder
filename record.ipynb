{
 "cells": [
  {
   "cell_type": "code",
   "execution_count": 1,
   "metadata": {},
   "outputs": [],
   "source": [
    "from scrapybara import Scrapybara\n",
    "from web_recorder import Recorder, Recording"
   ]
  },
  {
   "cell_type": "code",
   "execution_count": 2,
   "metadata": {},
   "outputs": [
    {
     "name": "stdout",
     "output_type": "stream",
     "text": [
      "`🔍 Live View Link: https://api.proxy.scrapybara.com/v1/instance/s-cc2b3608/stream\n"
     ]
    }
   ],
   "source": [
    "SCRAPYBARA_API_KEY = \"<api_key>\"\n",
    "client = Scrapybara(api_key=SCRAPYBARA_API_KEY)\n",
    "\n",
    "instance = client.start_browser()\n",
    "\n",
    "live_web_url = instance.get_stream_url().stream_url\n",
    "cdp_url = instance.get_cdp_url().cdp_url\n",
    "print(f\"`🔍 Live View Link: {live_web_url}\")"
   ]
  },
  {
   "cell_type": "code",
   "execution_count": 3,
   "metadata": {},
   "outputs": [
    {
     "data": {
      "text/plain": [
       "'wss://proxy-api-102101747085.us-central1.run.app/v1/instance/s-cc2b3608/browser/ws'"
      ]
     },
     "execution_count": 3,
     "metadata": {},
     "output_type": "execute_result"
    }
   ],
   "source": [
    "cdp_url"
   ]
  },
  {
   "cell_type": "markdown",
   "metadata": {},
   "source": [
    "**Record a session**\n",
    "\n",
    "This will start recording your browser session. The recorder will capture all page loads, dom changes, and user interactions, including:\n",
    "- Mouse clicks\n",
    "- Mouse movements\n",
    "- Scrolling\n",
    "- Text input\n",
    "- Page navigation\n",
    "- Page loads\n",
    "\n",
    "To stop recording, simply close the browser tab that was opened."
   ]
  },
  {
   "cell_type": "code",
   "execution_count": 4,
   "metadata": {},
   "outputs": [
    {
     "name": "stdout",
     "output_type": "stream",
     "text": [
      "Task ID: d30ad367-0dd0-4dc8-8dbf-8622764b5ae6\n",
      "Recording completed\n"
     ]
    }
   ],
   "source": [
    "recorder = Recorder(\n",
    "  cdp_url=cdp_url,\n",
    ")\n",
    "\n",
    "recording = await recorder.record()"
   ]
  },
  {
   "cell_type": "code",
   "execution_count": 5,
   "metadata": {},
   "outputs": [],
   "source": [
    "events_path = \"recordings/events.json\""
   ]
  },
  {
   "cell_type": "markdown",
   "metadata": {},
   "source": [
    "**Export recording**\n",
    "\n",
    "Export the recording to a file. \n",
    "\n",
    "The export path can be:\n",
    "- Local file path (e.g. \"recordings/events.json\") \n",
    "- S3 path (e.g. \"s3://bucket/path/to/file.json\")"
   ]
  },
  {
   "cell_type": "code",
   "execution_count": 6,
   "metadata": {},
   "outputs": [
    {
     "name": "stdout",
     "output_type": "stream",
     "text": [
      "Successfully exported recording\n"
     ]
    }
   ],
   "source": [
    "await recording.export(\n",
    "  path=events_path,\n",
    ")"
   ]
  },
  {
   "cell_type": "markdown",
   "metadata": {},
   "source": [
    "**Load recording from file**\n",
    "\n",
    "Load a previously exported recording from a file.\n",
    "\n",
    "The file path can be:\n",
    "- Local file path (e.g. \"recordings/events.json\")\n",
    "- S3 path (e.g. \"s3://bucket/path/to/file.json\")\n"
   ]
  },
  {
   "cell_type": "code",
   "execution_count": 3,
   "metadata": {
    "scrolled": true
   },
   "outputs": [],
   "source": [
    "recording = Recording.from_file(events_path)"
   ]
  },
  {
   "cell_type": "code",
   "execution_count": 7,
   "metadata": {},
   "outputs": [
    {
     "data": {
      "text/plain": [
       "197"
      ]
     },
     "execution_count": 7,
     "metadata": {},
     "output_type": "execute_result"
    }
   ],
   "source": [
    "len(recording.events)"
   ]
  },
  {
   "cell_type": "markdown",
   "metadata": {},
   "source": [
    "**Replay recording**\n",
    "\n",
    "Replay the recording in a browser. By default it uses a local browser instance.\n",
    "\n",
    "You can pass in a CDP URL to replay on a remote browser instance.\n",
    "\n",
    "Example:\n",
    "```python\n",
    "# Remote replay\n",
    "await recording.replay(cdp_url=\"ws://remote-browser:9222\")\n",
    "```\n"
   ]
  },
  {
   "cell_type": "code",
   "execution_count": null,
   "metadata": {},
   "outputs": [
    {
     "name": "stdout",
     "output_type": "stream",
     "text": [
      "Replay completed\n"
     ]
    }
   ],
   "source": [
    "await recording.replay()"
   ]
  },
  {
   "cell_type": "markdown",
   "metadata": {},
   "source": [
    "**Export session as trajectory**\n",
    "\n",
    "Export the recording as a trajectory format that captures puts out dom for each action from the session.\n",
    "This is helpful for:\n",
    "- Analyzing user interactions and page states over time\n",
    "- Training ML models on web interactions\n",
    "- Debugging issues by examining the DOM state at each action\n",
    "- Creating structured data from web sessions\n",
    "\n",
    "Schema:\n",
    "\n",
    "```json\n",
    "{\n",
    "  \"id\": \"123\",\n",
    "  \"snapshots\": [\n",
    "    {\n",
    "      \"action\": \"page_load\",\n",
    "      \"timestamp\": 100,\n",
    "      \"state\": \"<html>...</html>\",\n",
    "      \"metadata\": {\n",
    "        \"url\": \"https://example.com\"\n",
    "      },\n",
    "    },\n",
    "    {\n",
    "      \"action\": \"click\",\n",
    "      \"timestamp\": 101,\n",
    "      \"state\": \"<html>...</html>\",\n",
    "      \"metadata\": { ... },\n",
    "      \"element\": \"<button>...</button>\"\n",
    "    },\n",
    "    ...\n",
    "  ]\n",
    "}\n"
   ]
  },
  {
   "cell_type": "markdown",
   "metadata": {},
   "source": [
    "Generate and use trajectory"
   ]
  },
  {
   "cell_type": "code",
   "execution_count": 9,
   "metadata": {},
   "outputs": [],
   "source": [
    "events_path = \"recordings/events.json\"\n",
    "recording = Recording.from_file(events_path)\n",
    "\n",
    "trajectory = await recording.get_trajectory()\n",
    "\n",
    "len(trajectory.snapshots)"
   ]
  },
  {
   "cell_type": "markdown",
   "metadata": {},
   "source": [
    "Generate and export to a path"
   ]
  },
  {
   "cell_type": "code",
   "execution_count": 10,
   "metadata": {},
   "outputs": [
    {
     "name": "stdout",
     "output_type": "stream",
     "text": [
      "Successfully exported recording\n"
     ]
    }
   ],
   "source": [
    "from web_recorder.recorder import ExportFormat, ExportConfig\n",
    "events_path = \"recordings/events.json\"\n",
    "recording = Recording.from_file(events_path)\n",
    "\n",
    "await recording.export(\n",
    "    path=\"./trajectories/trajectory.json\",\n",
    "    config=ExportConfig(\n",
    "        format=ExportFormat.TRAJECTORY,\n",
    "    ),\n",
    ")"
   ]
  }
 ],
 "metadata": {
  "kernelspec": {
   "display_name": "foundryml-sMtWArYk-py3.12",
   "language": "python",
   "name": "python3"
  },
  "language_info": {
   "codemirror_mode": {
    "name": "ipython",
    "version": 3
   },
   "file_extension": ".py",
   "mimetype": "text/x-python",
   "name": "python",
   "nbconvert_exporter": "python",
   "pygments_lexer": "ipython3",
   "version": "3.12.7"
  }
 },
 "nbformat": 4,
 "nbformat_minor": 4
}
