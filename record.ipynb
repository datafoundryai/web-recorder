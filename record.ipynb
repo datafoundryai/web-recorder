{
 "cells": [
  {
   "cell_type": "code",
   "execution_count": 1,
   "metadata": {},
   "outputs": [],
   "source": [
    "from scrapybara import Scrapybara\n",
    "from web_recorder import Recorder, Recording"
   ]
  },
  {
   "cell_type": "code",
   "execution_count": 2,
   "metadata": {},
   "outputs": [
    {
     "name": "stdout",
     "output_type": "stream",
     "text": [
      "`🔍 Live View Link: https://api.proxy.scrapybara.com/v1/instance/s-cc2b3608/stream\n"
     ]
    }
   ],
   "source": [
    "SCRAPYBARA_API_KEY = \"<api_key>\"\n",
    "client = Scrapybara(api_key=SCRAPYBARA_API_KEY)\n",
    "\n",
    "instance = client.start_browser()\n",
    "\n",
    "live_web_url = instance.get_stream_url().stream_url\n",
    "cdp_url = instance.get_cdp_url().cdp_url\n",
    "print(f\"`🔍 Live View Link: {live_web_url}\")"
   ]
  },
  {
   "cell_type": "code",
   "execution_count": 3,
   "metadata": {},
   "outputs": [
    {
     "data": {
      "text/plain": [
       "'wss://proxy-api-102101747085.us-central1.run.app/v1/instance/s-cc2b3608/browser/ws'"
      ]
     },
     "execution_count": 3,
     "metadata": {},
     "output_type": "execute_result"
    }
   ],
   "source": [
    "cdp_url"
   ]
  },
  {
   "cell_type": "code",
   "execution_count": 4,
   "metadata": {},
   "outputs": [
    {
     "name": "stdout",
     "output_type": "stream",
     "text": [
      "Task ID: 4ba7a19c-290f-4593-91d3-155b50c31b20\n"
     ]
    }
   ],
   "source": [
    "recorder = Recorder(\n",
    "  cdp_url=cdp_url,\n",
    ")\n",
    "\n",
    "recording = await recorder.record()"
   ]
  },
  {
   "cell_type": "code",
   "execution_count": 2,
   "metadata": {},
   "outputs": [],
   "source": [
    "events_path = \"recordings/events.json\""
   ]
  },
  {
   "cell_type": "code",
   "execution_count": null,
   "metadata": {},
   "outputs": [],
   "source": [
    "recording.export(\n",
    "  path=events_path,\n",
    ")"
   ]
  },
  {
   "cell_type": "code",
   "execution_count": 3,
   "metadata": {
    "scrolled": true
   },
   "outputs": [],
   "source": [
    "recording = Recording.from_file(events_path)"
   ]
  },
  {
   "cell_type": "code",
   "execution_count": 4,
   "metadata": {},
   "outputs": [
    {
     "data": {
      "text/plain": [
       "228"
      ]
     },
     "execution_count": 4,
     "metadata": {},
     "output_type": "execute_result"
    }
   ],
   "source": [
    "len(recording.events)"
   ]
  },
  {
   "cell_type": "code",
   "execution_count": 5,
   "metadata": {},
   "outputs": [
    {
     "name": "stdout",
     "output_type": "stream",
     "text": [
      "number of events 2\n"
     ]
    }
   ],
   "source": [
    "await recording.replay() #replays on a local browser instance, can pass in a cdp url to replay on a remote browser"
   ]
  },
  {
   "cell_type": "code",
   "execution_count": 1,
   "metadata": {},
   "outputs": [
    {
     "data": {
      "text/plain": [
       "86"
      ]
     },
     "execution_count": 1,
     "metadata": {},
     "output_type": "execute_result"
    }
   ],
   "source": [
    "events_path = \"recordings/events.json\"\n",
    "recording = Recording.from_file(events_path)\n",
    "\n",
    "trajectory = await recording.get_trajectory()\n",
    "\n",
    "len(trajectory.snapshots)"
   ]
  },
  {
   "cell_type": "code",
   "execution_count": 2,
   "metadata": {},
   "outputs": [
    {
     "name": "stdout",
     "output_type": "stream",
     "text": [
      "Successfully exported recording\n"
     ]
    }
   ],
   "source": [
    "from web_recorder.recorder import ExportFormat, ExportConfig\n",
    "events_path = \"recordings/events.json\"\n",
    "recording = Recording.from_file(events_path)\n",
    "\n",
    "await recording.export(\n",
    "    path=\"./trajectories/trajectory.json\",\n",
    "    config=ExportConfig(\n",
    "        format=ExportFormat.TRAJECTORY,\n",
    "    ),\n",
    ")"
   ]
  }
 ],
 "metadata": {
  "kernelspec": {
   "display_name": "foundryml-sMtWArYk-py3.12",
   "language": "python",
   "name": "python3"
  },
  "language_info": {
   "codemirror_mode": {
    "name": "ipython",
    "version": 3
   },
   "file_extension": ".py",
   "mimetype": "text/x-python",
   "name": "python",
   "nbconvert_exporter": "python",
   "pygments_lexer": "ipython3",
   "version": "3.12.7"
  }
 },
 "nbformat": 4,
 "nbformat_minor": 4
}
