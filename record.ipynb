{
 "cells": [
  {
   "cell_type": "code",
   "execution_count": 1,
   "metadata": {},
   "outputs": [],
   "source": [
    "from scrapybara import Scrapybara\n",
    "\n",
    "from web_recording.recorder import Recorder"
   ]
  },
  {
   "cell_type": "code",
   "execution_count": 2,
   "metadata": {},
   "outputs": [
    {
     "name": "stdout",
     "output_type": "stream",
     "text": [
      "`🔍 Live View Link: https://api.proxy.scrapybara.com/v1/instance/s-cc764090/stream\n"
     ]
    }
   ],
   "source": [
    "SCRAPYBARA_API_KEY = \"<api_key>\"\n",
    "client = Scrapybara(api_key=SCRAPYBARA_API_KEY)\n",
    "\n",
    "instance = client.start_browser()\n",
    "\n",
    "live_web_url = instance.get_stream_url().stream_url\n",
    "cdp_url = instance.get_cdp_url().cdp_url\n",
    "print(f\"`🔍 Live View Link: {live_web_url}\")"
   ]
  },
  {
   "cell_type": "code",
   "execution_count": 3,
   "metadata": {},
   "outputs": [
    {
     "name": "stdout",
     "output_type": "stream",
     "text": [
      "Task ID: fd987dc9-da8d-430a-8165-52b1d3203c60\n",
      "recording browser logs unsupported url: about:blank found, won't record\n",
      "recording browser logs Starting rrweb recording\n",
      "recording browser logs window is iframe, won't record\n",
      "recording browser logs send events called\n",
      "recording browser logs window is iframe, won't record\n",
      "recording browser logs window is iframe, won't record\n",
      "recording browser logs send events called\n",
      "recording browser logs send events called\n",
      "recording browser logs send events called\n",
      "recording browser logs send events called\n",
      "recording browser logs Failed to load resource: the server responded with a status of 404 ()\n",
      "recording browser logs send events called\n",
      "recording browser logs send events called\n",
      "recording browser logs send events called\n",
      "recording browser logs Starting rrweb recording\n",
      "recording browser logs window is iframe, won't record\n",
      "recording browser logs send events called\n",
      "recording browser logs Blocked attempt to show a 'beforeunload' confirmation panel for a frame that never had a user gesture since its load. https://www.chromestatus.com/feature/5082396709879808\n",
      "recording browser logs send events called\n",
      "recording browser logs Starting rrweb recording\n",
      "recording browser logs window is iframe, won't record\n",
      "recording browser logs window is iframe, won't record\n",
      "recording browser logs send events called\n",
      "recording browser logs window is iframe, won't record\n",
      "recording browser logs window is iframe, won't record\n",
      "recording browser logs Failed to execute 'postMessage' on 'DOMWindow': The target origin provided ('https://www.youtube.com') does not match the recipient window's origin ('https://www.google.com').\n",
      "recording browser logs window is iframe, won't record\n",
      "recording browser logs send events called\n",
      "recording browser logs window is iframe, won't record\n",
      "recording browser logs send events called\n",
      "recording browser logs send events called\n",
      "recording browser logs send events called\n",
      "recording browser logs send events called\n",
      "recording browser logs send events called\n",
      "recording browser logs send events called\n",
      "recording browser logs send events called\n",
      "recording browser logs send events called\n",
      "recording browser logs send events called\n",
      "recording browser logs send events called\n",
      "recording browser logs send events called\n",
      "recording browser logs Starting rrweb recording\n",
      "recording browser logs window is iframe, won't record\n",
      "recording browser logs window is iframe, won't record\n",
      "recording browser logs send events called\n",
      "recording browser logs send events called\n",
      "recording browser logs send events called\n",
      "recording browser logs send events called\n",
      "recording browser logs send events called\n",
      "recording browser logs send events called\n",
      "recording browser logs send events called\n",
      "recording browser logs send events called\n",
      "recording browser logs send events called\n"
     ]
    },
    {
     "ename": "AttributeError",
     "evalue": "'Recording' object has no attribute '__pydantic_fields_set__'",
     "output_type": "error",
     "traceback": [
      "\u001b[0;31m---------------------------------------------------------------------------\u001b[0m",
      "\u001b[0;31mAttributeError\u001b[0m                            Traceback (most recent call last)",
      "Cell \u001b[0;32mIn[3], line 5\u001b[0m\n\u001b[1;32m      1\u001b[0m recorder \u001b[38;5;241m=\u001b[39m Recorder(\n\u001b[1;32m      2\u001b[0m   cdp_url\u001b[38;5;241m=\u001b[39mcdp_url,\n\u001b[1;32m      3\u001b[0m )\n\u001b[0;32m----> 5\u001b[0m recording \u001b[38;5;241m=\u001b[39m \u001b[38;5;28;01mawait\u001b[39;00m recorder\u001b[38;5;241m.\u001b[39mrecord()\n",
      "File \u001b[0;32m~/Documents/foundry/web-recording/web_recording/recorder.py:149\u001b[0m, in \u001b[0;36mRecorder.record\u001b[0;34m(self)\u001b[0m\n\u001b[1;32m    146\u001b[0m     \u001b[38;5;28;01mawait\u001b[39;00m context\u001b[38;5;241m.\u001b[39mclose()\n\u001b[1;32m    147\u001b[0m     \u001b[38;5;28;01mawait\u001b[39;00m browser\u001b[38;5;241m.\u001b[39mclose()\n\u001b[0;32m--> 149\u001b[0m \u001b[38;5;28;01mreturn\u001b[39;00m Recording(task_id\u001b[38;5;241m=\u001b[39mtask_id, events\u001b[38;5;241m=\u001b[39mevents)\n",
      "File \u001b[0;32m~/Documents/foundry/web-recording/web_recording/recorder.py:55\u001b[0m, in \u001b[0;36mRecording.__init__\u001b[0;34m(self, task_id, events)\u001b[0m\n\u001b[1;32m     54\u001b[0m \u001b[38;5;28;01mdef\u001b[39;00m\u001b[38;5;250m \u001b[39m\u001b[38;5;21m__init__\u001b[39m(\u001b[38;5;28mself\u001b[39m, task_id: \u001b[38;5;28mstr\u001b[39m, events: List[Dict]):\n\u001b[0;32m---> 55\u001b[0m     \u001b[38;5;28mself\u001b[39m\u001b[38;5;241m.\u001b[39mtask_id \u001b[38;5;241m=\u001b[39m task_id\n\u001b[1;32m     56\u001b[0m     \u001b[38;5;28mself\u001b[39m\u001b[38;5;241m.\u001b[39mevents \u001b[38;5;241m=\u001b[39m events\n\u001b[1;32m     57\u001b[0m     \u001b[38;5;28mself\u001b[39m\u001b[38;5;241m.\u001b[39mbrowser \u001b[38;5;241m=\u001b[39m browser\n",
      "File \u001b[0;32m~/miniconda3/envs/foundryml/lib/python3.12/site-packages/pydantic/main.py:940\u001b[0m, in \u001b[0;36mBaseModel.__setattr__\u001b[0;34m(self, name, value)\u001b[0m\n\u001b[1;32m    938\u001b[0m \u001b[38;5;28;01melse\u001b[39;00m:\n\u001b[1;32m    939\u001b[0m     \u001b[38;5;28mself\u001b[39m\u001b[38;5;241m.\u001b[39m\u001b[38;5;18m__dict__\u001b[39m[name] \u001b[38;5;241m=\u001b[39m value\n\u001b[0;32m--> 940\u001b[0m     \u001b[38;5;28mself\u001b[39m\u001b[38;5;241m.\u001b[39m__pydantic_fields_set__\u001b[38;5;241m.\u001b[39madd(name)\n",
      "File \u001b[0;32m~/miniconda3/envs/foundryml/lib/python3.12/site-packages/pydantic/main.py:888\u001b[0m, in \u001b[0;36mBaseModel.__getattr__\u001b[0;34m(self, item)\u001b[0m\n\u001b[1;32m    886\u001b[0m \u001b[38;5;28;01melse\u001b[39;00m:\n\u001b[1;32m    887\u001b[0m     \u001b[38;5;28;01mif\u001b[39;00m \u001b[38;5;28mhasattr\u001b[39m(\u001b[38;5;28mself\u001b[39m\u001b[38;5;241m.\u001b[39m\u001b[38;5;18m__class__\u001b[39m, item):\n\u001b[0;32m--> 888\u001b[0m         \u001b[38;5;28;01mreturn\u001b[39;00m \u001b[38;5;28msuper\u001b[39m()\u001b[38;5;241m.\u001b[39m\u001b[38;5;21m__getattribute__\u001b[39m(item)  \u001b[38;5;66;03m# Raises AttributeError if appropriate\u001b[39;00m\n\u001b[1;32m    889\u001b[0m     \u001b[38;5;28;01melse\u001b[39;00m:\n\u001b[1;32m    890\u001b[0m         \u001b[38;5;66;03m# this is the current error\u001b[39;00m\n\u001b[1;32m    891\u001b[0m         \u001b[38;5;28;01mraise\u001b[39;00m \u001b[38;5;167;01mAttributeError\u001b[39;00m(\u001b[38;5;124mf\u001b[39m\u001b[38;5;124m'\u001b[39m\u001b[38;5;132;01m{\u001b[39;00m\u001b[38;5;28mtype\u001b[39m(\u001b[38;5;28mself\u001b[39m)\u001b[38;5;241m.\u001b[39m\u001b[38;5;18m__name__\u001b[39m\u001b[38;5;132;01m!r}\u001b[39;00m\u001b[38;5;124m object has no attribute \u001b[39m\u001b[38;5;132;01m{\u001b[39;00mitem\u001b[38;5;132;01m!r}\u001b[39;00m\u001b[38;5;124m'\u001b[39m)\n",
      "\u001b[0;31mAttributeError\u001b[0m: 'Recording' object has no attribute '__pydantic_fields_set__'"
     ]
    }
   ],
   "source": [
    "recorder = Recorder(\n",
    "  cdp_url=cdp_url,\n",
    ")\n",
    "\n",
    "recording = await recorder.record()"
   ]
  },
  {
   "cell_type": "code",
   "execution_count": null,
   "metadata": {},
   "outputs": [
    {
     "ename": "AttributeError",
     "evalue": "'coroutine' object has no attribute 'events'",
     "output_type": "error",
     "traceback": [
      "\u001b[0;31m---------------------------------------------------------------------------\u001b[0m",
      "\u001b[0;31mAttributeError\u001b[0m                            Traceback (most recent call last)",
      "Cell \u001b[0;32mIn[5], line 1\u001b[0m\n\u001b[0;32m----> 1\u001b[0m recording\u001b[38;5;241m.\u001b[39mevents\n",
      "\u001b[0;31mAttributeError\u001b[0m: 'coroutine' object has no attribute 'events'"
     ]
    }
   ],
   "source": []
  },
  {
   "cell_type": "code",
   "execution_count": null,
   "metadata": {},
   "outputs": [],
   "source": [
    "recording.export(\n",
    "  path=\"s3://some-bucket/some-path\",\n",
    ")"
   ]
  },
  {
   "cell_type": "code",
   "execution_count": null,
   "metadata": {},
   "outputs": [],
   "source": [
    "recording = recorder.import(\"path/to/recording\")"
   ]
  },
  {
   "cell_type": "code",
   "execution_count": null,
   "metadata": {},
   "outputs": [],
   "source": [
    "no_automation_args = [\n",
    "    \"--no-sandbox\",\n",
    "    \"--disable-blink-features=AutomationControlled\",\n",
    "    \"--disable-infobars\",\n",
    "    \"--disable-background-timer-throttling\",\n",
    "    \"--disable-popup-blocking\",\n",
    "    \"--disable-backgrounding-occluded-windows\",\n",
    "    \"--disable-renderer-backgrounding\",\n",
    "    \"--disable-window-activation\",\n",
    "    \"--disable-focus-on-load\",\n",
    "    \"--no-first-run\",\n",
    "    \"--no-default-browser-check\",\n",
    "    \"--no-startup-window\",\n",
    "    \"--window-position=0,0\",\n",
    "    \"--disable-site-isolation-trials\",\n",
    "    \"--disable-features=IsolateOrigins,site-per-process\",\n",
    "]\n",
    "\n",
    "\n",
    "with async_playwright() as p:\n",
    "    browser = await p.chromium.launch(headless=False, args=no_automation_args)\n",
    "    recording.replay(browser)\n"
   ]
  }
 ],
 "metadata": {
  "kernelspec": {
   "display_name": "foundryml",
   "language": "python",
   "name": "python3"
  },
  "language_info": {
   "codemirror_mode": {
    "name": "ipython",
    "version": 3
   },
   "file_extension": ".py",
   "mimetype": "text/x-python",
   "name": "python",
   "nbconvert_exporter": "python",
   "pygments_lexer": "ipython3",
   "version": "3.12.7"
  }
 },
 "nbformat": 4,
 "nbformat_minor": 2
}
